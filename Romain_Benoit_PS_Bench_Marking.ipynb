{
 "cells": [
  {
   "cell_type": "code",
   "execution_count": 1,
   "metadata": {},
   "outputs": [],
   "source": [
    "import numpy as np\n",
    "import matplotlib.pyplot as plt\n",
    "from astropy.io import fits\n",
    "from os import listdir\n",
    "import os\n",
    "import sys\n",
    "sys.path.insert(0, os.path.abspath('..')) # Note that this line is useless with a regular pip installation of PyWST.\n",
    "import pywst as pw\n",
    "%matplotlib notebook\n",
    "\n",
    "\n"
   ]
  },
  {
   "cell_type": "code",
   "execution_count": 2,
   "metadata": {},
   "outputs": [],
   "source": [
    "def PS_3D(dat_,box_size,npix,v_max,v_min,delta_v,freq_min,freq_max,nbins):\n",
    "    #path_cs == Path to cosmological signal fits file \n",
    "    #npix == Number of pixels n (in n x n slice)\n",
    "    #box_size == Box size to the nearest Mpc\n",
    "    #v_max == Highest Frequency in range (MHz)\n",
    "    #v_min == Lowest Frequency in range (MHz)\n",
    "    #delta_v == Frequency step in MHz\n",
    "    #v_interest == frequency the power spectrum is to be taken at (nearest 0.5MHz)\n",
    "    #delta_freq == Frequency slice \n",
    "    #nbins == number of bins\n",
    "    import numpy as np\n",
    "    from numpy import fft as f \n",
    "    from astropy.io import fits\n",
    "    import os \n",
    "    import matplotlib.pyplot as plt\n",
    "    from astropy.cosmology import FlatLambdaCDM,WMAP9\n",
    "    import astropy.units as u \n",
    "    import numpy as np\n",
    "    from numpy import fft as f \n",
    "    import math \n",
    "    from astropy.io import fits\n",
    "    import matplotlib.pyplot as plt\n",
    "    import sys \n",
    "    box_size = np.float(box_size)\n",
    "    freq_range_ = np.arange(v_min,v_max+delta_v, delta_v) \n",
    "    f1 = freq_range_<=freq_max\n",
    "    f2 = freq_min <=freq_range_\n",
    "    fb = f1&f1\n",
    "    b = freq_min\n",
    "    delta_freq = freq_min-freq_max\n",
    "    dat = dat_[fb]\n",
    "    freq_range = freq_range_[fb]\n",
    "    if delta_freq > 10:\n",
    "        print('Having a bandwidth of 10MHz leads to more evolution in the signal!')\n",
    "    H_0 = 69.32#Hubble constant \n",
    "    omega_m = WMAP9.Om0\n",
    "    n_slices = (dat.shape)[0]\n",
    "    zmin=1420/v_min - 1\n",
    "    zmax=1420/v_max - 1\n",
    "    dmin  = WMAP9.comoving_distance(zmin)\n",
    "    dmax  = WMAP9.comoving_distance(zmax)\n",
    "    delta_d = abs(dmax-dmin)\n",
    "    k_small_perp = (2*np.pi)/box_size \n",
    "    k_large_perp = npix*k_small_perp #length of box side in k-space \n",
    "    k_small_los = (2*(np.pi)/delta_d)*u.Mpc\n",
    "    k_large_los = k_small_los*n_slices \n",
    "    dat_3D = dat\n",
    "    ft3d = f.fftn(dat_3D)/np.int(dat_3D.size)\n",
    "    ft3d = f.fftshift(ft3d)\n",
    "    PS3D = np.abs(ft3d)**2  \n",
    "    if k_small_los<k_small_perp:\n",
    "        k_small = k_small_los\n",
    "    else:\n",
    "        k_small = k_small_perp    \n",
    "    if k_large_los<k_large_perp:\n",
    "        k_largest = k_large_perp\n",
    "    else:\n",
    "        k_largest = k_large_los\n",
    "    bins = np.logspace(math.log10(k_small),math.log10(k_largest ), nbins+1)\n",
    "    dk_xy = (box_size/npix)/(2*np.pi)\n",
    "    dk_z = (delta_d/n_slices)/(2*np.pi)\n",
    "    nu_xy = np.fft.fftshift(np.fft.fftfreq(npix, dk_xy)) \n",
    "    nu_z = np.fft.fftshift(np.fft.fftfreq(n_slices, dk_z)) \n",
    "    kx, ky = np.meshgrid(nu_xy,nu_xy)\n",
    "    cube_z = np.zeros((len(nu_z),kx.shape[0],kx.shape[1]))\n",
    "    for o,c in zip(nu_z,range(len(nu_z))):\n",
    "        cube_z[c,:,:] = o\n",
    "    cube_z = np.array(cube_z)  \n",
    "    ps = np.array(PS3D) \n",
    "    kmod = np.zeros((cube_z.shape[0],cube_z.shape[1],cube_z.shape[2]))\n",
    "    for p in range(cube_z.shape[0]):\n",
    "        kmod[p,:,:] = np.sqrt(kx**2 + ky**2 + cube_z[p]**2)\n",
    "    kernel_1 = []\n",
    "    kernel_2 = []\n",
    "    k = np.zeros(nbins)\n",
    "    for p in range(len(bins)-1):\n",
    "        c1 = bins[p] <=kmod\n",
    "        c2 =kmod[c1]< bins[p+1] \n",
    "        kernel_1.append(c1)\n",
    "        kernel_2.append(c2)\n",
    "        k[p] = bins[p+1]*100/H_0\n",
    "    binned_data =np.zeros(nbins) #The binning of the FT\n",
    "    ps_err=np.zeros(nbins)\n",
    "    for bin_num in range(len(bins)-1):\n",
    "        p1 = ps[kernel_1[bin_num]]\n",
    "        bin_data = p1[kernel_2[bin_num]]\n",
    "        volme = (box_size*box_size*delta_d)/u.Mpc\n",
    "        prefac = (volme/(2*(np.pi)**2))   \n",
    "        binned_data[bin_num] = (prefac*(np.mean(bin_data))*k[bin_num]**3)               \n",
    "        PSerror =np.var(bin_data)/len(bin_data)\n",
    "        ps_err[bin_num] =  PSerror          \n",
    "    r = 3*(box_size/npix)\n",
    "    maxkplot =   (2*np.pi)/(r)      \n",
    "    tl = np.array(k) < maxkplot\n",
    "    k= np.array(k)[tl]\n",
    "    binned_data = np.array(binned_data)[tl]  \n",
    "    ps_err = np.array(ps_err)[tl] \n",
    "    return binned_data,k,ps_err"
   ]
  },
  {
   "cell_type": "code",
   "execution_count": 3,
   "metadata": {},
   "outputs": [],
   "source": [
    "def PS_3D_Coeval(dat_,box_size,npix,freq_min,freq_max,nbins):\n",
    "    #path_cs == Path to cosmological signal fits file \n",
    "    #npix == Number of pixels n (in n x n slice)\n",
    "    #box_size == Box size to the nearest Mpc\n",
    "    #v_max == Highest Frequency in range (MHz)\n",
    "    #v_min == Lowest Frequency in range (MHz)\n",
    "    #delta_v == Frequency step in MHz\n",
    "    #v_interest == frequency the power spectrum is to be taken at (nearest 0.5MHz)\n",
    "    #delta_freq == Frequency slice \n",
    "    #nbins == number of bins\n",
    "    import numpy as np\n",
    "    from numpy import fft as f \n",
    "    from astropy.io import fits\n",
    "    import os \n",
    "    import matplotlib.pyplot as plt\n",
    "    from astropy.cosmology import FlatLambdaCDM,WMAP9\n",
    "    import astropy.units as u \n",
    "    import numpy as np\n",
    "    from numpy import fft as f \n",
    "    import math \n",
    "    from astropy.io import fits\n",
    "    import matplotlib.pyplot as plt\n",
    "    import sys \n",
    "    box_size = np.float(box_size)\n",
    "    if delta_freq > 10:\n",
    "        print('Having a bandwidth of 10MHz leads to more evolution in the signal!')\n",
    "    n_slices = (dat.shape)[0]\n",
    "\n",
    "    delta_d = box_size\n",
    "    k_small_perp = (2*np.pi)/box_size \n",
    "    k_large_perp = npix*k_small_perp #length of box side in k-space \n",
    "    k_small_los = (2*(np.pi)/delta_d)*u.Mpc\n",
    "    k_large_los = k_small_los*n_slices \n",
    "    dat_3D = dat\n",
    "    ft3d = f.fftn(dat_3D)/np.int(dat_3D.size)\n",
    "    ft3d = f.fftshift(ft3d)\n",
    "    PS3D = np.abs(ft3d)**2  \n",
    "    if k_small_los<k_small_perp:\n",
    "        k_small = k_small_los\n",
    "    else:\n",
    "        k_small = k_small_perp    \n",
    "    if k_large_los<k_large_perp:\n",
    "        k_largest = k_large_perp\n",
    "    else:\n",
    "        k_largest = k_large_los\n",
    "    bins = np.logspace(math.log10(k_small),math.log10(k_largest ), nbins+1)\n",
    "    dk_xy = (box_size/npix)/(2*np.pi)\n",
    "    dk_z = (delta_d/n_slices)/(2*np.pi)\n",
    "    nu_xy = np.fft.fftshift(np.fft.fftfreq(npix, dk_xy)) \n",
    "    nu_z = np.fft.fftshift(np.fft.fftfreq(n_slices, dk_z)) \n",
    "    kx, ky = np.meshgrid(nu_xy,nu_xy)\n",
    "    cube_z = np.zeros((len(nu_z),kx.shape[0],kx.shape[1]))\n",
    "    for o,c in zip(nu_z,range(len(nu_z))):\n",
    "        cube_z[c,:,:] = o\n",
    "    cube_z = np.array(cube_z)  \n",
    "    ps = np.array(PS3D) \n",
    "    kmod = np.zeros((cube_z.shape[0],cube_z.shape[1],cube_z.shape[2]))\n",
    "    for p in range(cube_z.shape[0]):\n",
    "        kmod[p,:,:] = np.sqrt(kx**2 + ky**2 + cube_z[p]**2)\n",
    "    kernel_1 = []\n",
    "    kernel_2 = []\n",
    "    k = np.zeros(nbins)\n",
    "    for p in range(len(bins)-1):\n",
    "        c1 = bins[p] <=kmod\n",
    "        c2 =kmod[c1]< bins[p+1] \n",
    "        kernel_1.append(c1)\n",
    "        kernel_2.append(c2)\n",
    "        k[p] = bins[p+1]*100/H_0\n",
    "    binned_data =np.zeros(nbins) #The binning of the FT\n",
    "    ps_err=np.zeros(nbins)\n",
    "    for bin_num in range(len(bins)-1):\n",
    "        p1 = ps[kernel_1[bin_num]]\n",
    "        bin_data = p1[kernel_2[bin_num]]\n",
    "        volme = (box_size*box_size*delta_d)/u.Mpc\n",
    "        prefac = (volme/(2*(np.pi)**2))   \n",
    "        binned_data[bin_num] = (prefac*(np.mean(bin_data))*k[bin_num]**3)               \n",
    "        PSerror =np.var(bin_data)/len(bin_data)\n",
    "        ps_err[bin_num] =  PSerror          \n",
    "    #r = 3*(box_size/npix)\n",
    "    #maxkplot =   (2*np.pi)/(r)      \n",
    "    #tl = np.array(k) < maxkplot\n",
    "    #k= np.array(k)[tl]\n",
    "    #binned_data = np.array(binned_data)[tl]  \n",
    "    #ps_err = np.array(ps_err)[tl] \n",
    "    return binned_data,k,ps_err"
   ]
  },
  {
   "cell_type": "code",
   "execution_count": 4,
   "metadata": {},
   "outputs": [],
   "source": [
    "def read_lightcone(path,x_pix,y_pix,z_pix, type = np.float32):\n",
    "    try :\n",
    "        cube = np.fromfile(path, dtype=type)\n",
    "    except FileNotFoundError :\n",
    "        print(\" !!!!!! file not found : \"+ path)\n",
    "        print(\"moving on...\")\n",
    "    \n",
    "    cube =np.reshape(cube, (x_pix,y_pix,int(z_pix))).T\n",
    "    return cube"
   ]
  },
  {
   "cell_type": "code",
   "execution_count": 5,
   "metadata": {},
   "outputs": [],
   "source": [
    "ddir = '/Users/ianhothi/WST/Testing/pywst/examples/data/'\n",
    "plt_dir = '/Users/ianhothi/Dropbox/WST_RWST/Figures/Romain_Benoit_Sim_Test/'"
   ]
  },
  {
   "cell_type": "code",
   "execution_count": 6,
   "metadata": {},
   "outputs": [],
   "source": [
    "simu00004 = np.zeros((4,256,256,256))\n",
    "simu00010 = np.zeros((4,256,256,256))\n",
    "simu00012 = np.zeros((4,256,256,256))\n",
    "simu00013 = np.zeros((4,256,256,256))\n",
    "simu00014 = np.zeros((4,256,256,256))\n",
    "simu00016 = np.zeros((4,256,256,256))\n",
    "simu00022 = np.zeros((4,256,256,256))"
   ]
  },
  {
   "cell_type": "code",
   "execution_count": 7,
   "metadata": {},
   "outputs": [
    {
     "ename": "NameError",
     "evalue": "name 'read_cube' is not defined",
     "output_type": "error",
     "traceback": [
      "\u001b[0;31m---------------------------------------------------------------------------\u001b[0m",
      "\u001b[0;31mNameError\u001b[0m                                 Traceback (most recent call last)",
      "\u001b[0;32m/var/folders/h3/6k136qw97hjf1w5_0q84nnl80000gq/T/ipykernel_90492/3641191229.py\u001b[0m in \u001b[0;36m<module>\u001b[0;34m\u001b[0m\n\u001b[0;32m----> 1\u001b[0;31m \u001b[0msimu00004\u001b[0m\u001b[0;34m[\u001b[0m\u001b[0;36m0\u001b[0m\u001b[0;34m,\u001b[0m\u001b[0;34m:\u001b[0m\u001b[0;34m,\u001b[0m\u001b[0;34m:\u001b[0m\u001b[0;34m,\u001b[0m\u001b[0;34m:\u001b[0m\u001b[0;34m]\u001b[0m \u001b[0;34m=\u001b[0m \u001b[0mnp\u001b[0m\u001b[0;34m.\u001b[0m\u001b[0marray\u001b[0m\u001b[0;34m(\u001b[0m\u001b[0mread_cube\u001b[0m\u001b[0;34m(\u001b[0m\u001b[0mddir\u001b[0m\u001b[0;34m+\u001b[0m\u001b[0;34m'simu00004'\u001b[0m\u001b[0;34m+\u001b[0m\u001b[0;34m'/'\u001b[0m\u001b[0;34m+\u001b[0m\u001b[0;34m'dtb_tp_hi_256_nocorrection_out010.dat'\u001b[0m\u001b[0;34m)\u001b[0m\u001b[0;34m)\u001b[0m\u001b[0;34m\u001b[0m\u001b[0m\n\u001b[0m\u001b[1;32m      2\u001b[0m \u001b[0msimu00004\u001b[0m\u001b[0;34m[\u001b[0m\u001b[0;36m1\u001b[0m\u001b[0;34m,\u001b[0m\u001b[0;34m:\u001b[0m\u001b[0;34m,\u001b[0m\u001b[0;34m:\u001b[0m\u001b[0;34m,\u001b[0m\u001b[0;34m:\u001b[0m\u001b[0;34m]\u001b[0m \u001b[0;34m=\u001b[0m \u001b[0mnp\u001b[0m\u001b[0;34m.\u001b[0m\u001b[0marray\u001b[0m\u001b[0;34m(\u001b[0m\u001b[0mread_cube\u001b[0m\u001b[0;34m(\u001b[0m\u001b[0mddir\u001b[0m\u001b[0;34m+\u001b[0m\u001b[0;34m'simu00004'\u001b[0m\u001b[0;34m+\u001b[0m\u001b[0;34m'/'\u001b[0m\u001b[0;34m+\u001b[0m\u001b[0;34m'dtb_tp_hi_256_nocorrection_out020.dat'\u001b[0m\u001b[0;34m)\u001b[0m\u001b[0;34m)\u001b[0m\u001b[0;34m\u001b[0m\u001b[0m\n\u001b[1;32m      3\u001b[0m \u001b[0msimu00004\u001b[0m\u001b[0;34m[\u001b[0m\u001b[0;36m2\u001b[0m\u001b[0;34m,\u001b[0m\u001b[0;34m:\u001b[0m\u001b[0;34m,\u001b[0m\u001b[0;34m:\u001b[0m\u001b[0;34m,\u001b[0m\u001b[0;34m:\u001b[0m\u001b[0;34m]\u001b[0m \u001b[0;34m=\u001b[0m \u001b[0mnp\u001b[0m\u001b[0;34m.\u001b[0m\u001b[0marray\u001b[0m\u001b[0;34m(\u001b[0m\u001b[0mread_cube\u001b[0m\u001b[0;34m(\u001b[0m\u001b[0mddir\u001b[0m\u001b[0;34m+\u001b[0m\u001b[0;34m'simu00004'\u001b[0m\u001b[0;34m+\u001b[0m\u001b[0;34m'/'\u001b[0m\u001b[0;34m+\u001b[0m\u001b[0;34m'dtb_tp_hi_256_nocorrection_out030.dat'\u001b[0m\u001b[0;34m)\u001b[0m\u001b[0;34m)\u001b[0m\u001b[0;34m\u001b[0m\u001b[0m\n\u001b[1;32m      4\u001b[0m \u001b[0msimu00004\u001b[0m\u001b[0;34m[\u001b[0m\u001b[0;36m3\u001b[0m\u001b[0;34m,\u001b[0m\u001b[0;34m:\u001b[0m\u001b[0;34m,\u001b[0m\u001b[0;34m:\u001b[0m\u001b[0;34m,\u001b[0m\u001b[0;34m:\u001b[0m\u001b[0;34m]\u001b[0m \u001b[0;34m=\u001b[0m \u001b[0mnp\u001b[0m\u001b[0;34m.\u001b[0m\u001b[0marray\u001b[0m\u001b[0;34m(\u001b[0m\u001b[0mread_cube\u001b[0m\u001b[0;34m(\u001b[0m\u001b[0mddir\u001b[0m\u001b[0;34m+\u001b[0m\u001b[0;34m'simu00004'\u001b[0m\u001b[0;34m+\u001b[0m\u001b[0;34m'/'\u001b[0m\u001b[0;34m+\u001b[0m\u001b[0;34m'dtb_tp_hi_256_nocorrection_out040.dat'\u001b[0m\u001b[0;34m)\u001b[0m\u001b[0;34m)\u001b[0m\u001b[0;34m\u001b[0m\u001b[0m\n",
      "\u001b[0;31mNameError\u001b[0m: name 'read_cube' is not defined"
     ]
    }
   ],
   "source": [
    "simu00004[0,:,:,:] = np.array(read_cube(ddir+'simu00004'+'/'+'dtb_tp_hi_256_nocorrection_out010.dat'))\n",
    "simu00004[1,:,:,:] = np.array(read_cube(ddir+'simu00004'+'/'+'dtb_tp_hi_256_nocorrection_out020.dat'))\n",
    "simu00004[2,:,:,:] = np.array(read_cube(ddir+'simu00004'+'/'+'dtb_tp_hi_256_nocorrection_out030.dat'))\n",
    "simu00004[3,:,:,:] = np.array(read_cube(ddir+'simu00004'+'/'+'dtb_tp_hi_256_nocorrection_out040.dat'))"
   ]
  },
  {
   "cell_type": "code",
   "execution_count": 8,
   "metadata": {},
   "outputs": [
    {
     "ename": "NameError",
     "evalue": "name 'read_cube' is not defined",
     "output_type": "error",
     "traceback": [
      "\u001b[0;31m---------------------------------------------------------------------------\u001b[0m",
      "\u001b[0;31mNameError\u001b[0m                                 Traceback (most recent call last)",
      "\u001b[0;32m/var/folders/h3/6k136qw97hjf1w5_0q84nnl80000gq/T/ipykernel_90492/3146898302.py\u001b[0m in \u001b[0;36m<module>\u001b[0;34m\u001b[0m\n\u001b[0;32m----> 1\u001b[0;31m \u001b[0msimu00010\u001b[0m\u001b[0;34m[\u001b[0m\u001b[0;36m0\u001b[0m\u001b[0;34m,\u001b[0m\u001b[0;34m:\u001b[0m\u001b[0;34m,\u001b[0m\u001b[0;34m:\u001b[0m\u001b[0;34m,\u001b[0m\u001b[0;34m:\u001b[0m\u001b[0;34m]\u001b[0m \u001b[0;34m=\u001b[0m \u001b[0mnp\u001b[0m\u001b[0;34m.\u001b[0m\u001b[0marray\u001b[0m\u001b[0;34m(\u001b[0m\u001b[0mread_cube\u001b[0m\u001b[0;34m(\u001b[0m\u001b[0mddir\u001b[0m\u001b[0;34m+\u001b[0m\u001b[0;34m'simu00010'\u001b[0m\u001b[0;34m+\u001b[0m\u001b[0;34m'/'\u001b[0m\u001b[0;34m+\u001b[0m\u001b[0;34m'dtb_tp_hi_256_nocorrection_out010.dat'\u001b[0m\u001b[0;34m)\u001b[0m\u001b[0;34m)\u001b[0m\u001b[0;34m\u001b[0m\u001b[0m\n\u001b[0m\u001b[1;32m      2\u001b[0m \u001b[0msimu00010\u001b[0m\u001b[0;34m[\u001b[0m\u001b[0;36m1\u001b[0m\u001b[0;34m,\u001b[0m\u001b[0;34m:\u001b[0m\u001b[0;34m,\u001b[0m\u001b[0;34m:\u001b[0m\u001b[0;34m,\u001b[0m\u001b[0;34m:\u001b[0m\u001b[0;34m]\u001b[0m \u001b[0;34m=\u001b[0m \u001b[0mnp\u001b[0m\u001b[0;34m.\u001b[0m\u001b[0marray\u001b[0m\u001b[0;34m(\u001b[0m\u001b[0mread_cube\u001b[0m\u001b[0;34m(\u001b[0m\u001b[0mddir\u001b[0m\u001b[0;34m+\u001b[0m\u001b[0;34m'simu00010'\u001b[0m\u001b[0;34m+\u001b[0m\u001b[0;34m'/'\u001b[0m\u001b[0;34m+\u001b[0m\u001b[0;34m'dtb_tp_hi_256_nocorrection_out020.dat'\u001b[0m\u001b[0;34m)\u001b[0m\u001b[0;34m)\u001b[0m\u001b[0;34m\u001b[0m\u001b[0m\n\u001b[1;32m      3\u001b[0m \u001b[0msimu00010\u001b[0m\u001b[0;34m[\u001b[0m\u001b[0;36m2\u001b[0m\u001b[0;34m,\u001b[0m\u001b[0;34m:\u001b[0m\u001b[0;34m,\u001b[0m\u001b[0;34m:\u001b[0m\u001b[0;34m,\u001b[0m\u001b[0;34m:\u001b[0m\u001b[0;34m]\u001b[0m \u001b[0;34m=\u001b[0m \u001b[0mnp\u001b[0m\u001b[0;34m.\u001b[0m\u001b[0marray\u001b[0m\u001b[0;34m(\u001b[0m\u001b[0mread_cube\u001b[0m\u001b[0;34m(\u001b[0m\u001b[0mddir\u001b[0m\u001b[0;34m+\u001b[0m\u001b[0;34m'simu00010'\u001b[0m\u001b[0;34m+\u001b[0m\u001b[0;34m'/'\u001b[0m\u001b[0;34m+\u001b[0m\u001b[0;34m'dtb_tp_hi_256_nocorrection_out030.dat'\u001b[0m\u001b[0;34m)\u001b[0m\u001b[0;34m)\u001b[0m\u001b[0;34m\u001b[0m\u001b[0m\n\u001b[1;32m      4\u001b[0m \u001b[0msimu00010\u001b[0m\u001b[0;34m[\u001b[0m\u001b[0;36m3\u001b[0m\u001b[0;34m,\u001b[0m\u001b[0;34m:\u001b[0m\u001b[0;34m,\u001b[0m\u001b[0;34m:\u001b[0m\u001b[0;34m,\u001b[0m\u001b[0;34m:\u001b[0m\u001b[0;34m]\u001b[0m \u001b[0;34m=\u001b[0m \u001b[0mnp\u001b[0m\u001b[0;34m.\u001b[0m\u001b[0marray\u001b[0m\u001b[0;34m(\u001b[0m\u001b[0mread_cube\u001b[0m\u001b[0;34m(\u001b[0m\u001b[0mddir\u001b[0m\u001b[0;34m+\u001b[0m\u001b[0;34m'simu00010'\u001b[0m\u001b[0;34m+\u001b[0m\u001b[0;34m'/'\u001b[0m\u001b[0;34m+\u001b[0m\u001b[0;34m'dtb_tp_hi_256_nocorrection_out040.dat'\u001b[0m\u001b[0;34m)\u001b[0m\u001b[0;34m)\u001b[0m\u001b[0;34m\u001b[0m\u001b[0m\n",
      "\u001b[0;31mNameError\u001b[0m: name 'read_cube' is not defined"
     ]
    }
   ],
   "source": [
    "simu00010[0,:,:,:] = np.array(read_cube(ddir+'simu00010'+'/'+'dtb_tp_hi_256_nocorrection_out010.dat'))\n",
    "simu00010[1,:,:,:] = np.array(read_cube(ddir+'simu00010'+'/'+'dtb_tp_hi_256_nocorrection_out020.dat'))\n",
    "simu00010[2,:,:,:] = np.array(read_cube(ddir+'simu00010'+'/'+'dtb_tp_hi_256_nocorrection_out030.dat'))\n",
    "simu00010[3,:,:,:] = np.array(read_cube(ddir+'simu00010'+'/'+'dtb_tp_hi_256_nocorrection_out040.dat'))"
   ]
  },
  {
   "cell_type": "code",
   "execution_count": 9,
   "metadata": {},
   "outputs": [
    {
     "ename": "NameError",
     "evalue": "name 'read_cube' is not defined",
     "output_type": "error",
     "traceback": [
      "\u001b[0;31m---------------------------------------------------------------------------\u001b[0m",
      "\u001b[0;31mNameError\u001b[0m                                 Traceback (most recent call last)",
      "\u001b[0;32m/var/folders/h3/6k136qw97hjf1w5_0q84nnl80000gq/T/ipykernel_90492/4076681652.py\u001b[0m in \u001b[0;36m<module>\u001b[0;34m\u001b[0m\n\u001b[0;32m----> 1\u001b[0;31m \u001b[0msimu00012\u001b[0m\u001b[0;34m[\u001b[0m\u001b[0;36m0\u001b[0m\u001b[0;34m,\u001b[0m\u001b[0;34m:\u001b[0m\u001b[0;34m,\u001b[0m\u001b[0;34m:\u001b[0m\u001b[0;34m,\u001b[0m\u001b[0;34m:\u001b[0m\u001b[0;34m]\u001b[0m \u001b[0;34m=\u001b[0m \u001b[0mnp\u001b[0m\u001b[0;34m.\u001b[0m\u001b[0marray\u001b[0m\u001b[0;34m(\u001b[0m\u001b[0mread_cube\u001b[0m\u001b[0;34m(\u001b[0m\u001b[0mddir\u001b[0m\u001b[0;34m+\u001b[0m\u001b[0;34m'simu00012'\u001b[0m\u001b[0;34m+\u001b[0m\u001b[0;34m'/'\u001b[0m\u001b[0;34m+\u001b[0m\u001b[0;34m'dtb_tp_hi_256_nocorrection_out010.dat'\u001b[0m\u001b[0;34m)\u001b[0m\u001b[0;34m)\u001b[0m\u001b[0;34m\u001b[0m\u001b[0m\n\u001b[0m\u001b[1;32m      2\u001b[0m \u001b[0msimu00012\u001b[0m\u001b[0;34m[\u001b[0m\u001b[0;36m1\u001b[0m\u001b[0;34m,\u001b[0m\u001b[0;34m:\u001b[0m\u001b[0;34m,\u001b[0m\u001b[0;34m:\u001b[0m\u001b[0;34m,\u001b[0m\u001b[0;34m:\u001b[0m\u001b[0;34m]\u001b[0m \u001b[0;34m=\u001b[0m \u001b[0mnp\u001b[0m\u001b[0;34m.\u001b[0m\u001b[0marray\u001b[0m\u001b[0;34m(\u001b[0m\u001b[0mread_cube\u001b[0m\u001b[0;34m(\u001b[0m\u001b[0mddir\u001b[0m\u001b[0;34m+\u001b[0m\u001b[0;34m'simu00012'\u001b[0m\u001b[0;34m+\u001b[0m\u001b[0;34m'/'\u001b[0m\u001b[0;34m+\u001b[0m\u001b[0;34m'dtb_tp_hi_256_nocorrection_out020.dat'\u001b[0m\u001b[0;34m)\u001b[0m\u001b[0;34m)\u001b[0m\u001b[0;34m\u001b[0m\u001b[0m\n\u001b[1;32m      3\u001b[0m \u001b[0msimu00012\u001b[0m\u001b[0;34m[\u001b[0m\u001b[0;36m2\u001b[0m\u001b[0;34m,\u001b[0m\u001b[0;34m:\u001b[0m\u001b[0;34m,\u001b[0m\u001b[0;34m:\u001b[0m\u001b[0;34m,\u001b[0m\u001b[0;34m:\u001b[0m\u001b[0;34m]\u001b[0m \u001b[0;34m=\u001b[0m \u001b[0mnp\u001b[0m\u001b[0;34m.\u001b[0m\u001b[0marray\u001b[0m\u001b[0;34m(\u001b[0m\u001b[0mread_cube\u001b[0m\u001b[0;34m(\u001b[0m\u001b[0mddir\u001b[0m\u001b[0;34m+\u001b[0m\u001b[0;34m'simu00012'\u001b[0m\u001b[0;34m+\u001b[0m\u001b[0;34m'/'\u001b[0m\u001b[0;34m+\u001b[0m\u001b[0;34m'dtb_tp_hi_256_nocorrection_out030.dat'\u001b[0m\u001b[0;34m)\u001b[0m\u001b[0;34m)\u001b[0m\u001b[0;34m\u001b[0m\u001b[0m\n\u001b[1;32m      4\u001b[0m \u001b[0msimu00012\u001b[0m\u001b[0;34m[\u001b[0m\u001b[0;36m3\u001b[0m\u001b[0;34m,\u001b[0m\u001b[0;34m:\u001b[0m\u001b[0;34m,\u001b[0m\u001b[0;34m:\u001b[0m\u001b[0;34m,\u001b[0m\u001b[0;34m:\u001b[0m\u001b[0;34m]\u001b[0m \u001b[0;34m=\u001b[0m \u001b[0mnp\u001b[0m\u001b[0;34m.\u001b[0m\u001b[0marray\u001b[0m\u001b[0;34m(\u001b[0m\u001b[0mread_cube\u001b[0m\u001b[0;34m(\u001b[0m\u001b[0mddir\u001b[0m\u001b[0;34m+\u001b[0m\u001b[0;34m'simu00012'\u001b[0m\u001b[0;34m+\u001b[0m\u001b[0;34m'/'\u001b[0m\u001b[0;34m+\u001b[0m\u001b[0;34m'dtb_tp_hi_256_nocorrection_out040.dat'\u001b[0m\u001b[0;34m)\u001b[0m\u001b[0;34m)\u001b[0m\u001b[0;34m\u001b[0m\u001b[0m\n",
      "\u001b[0;31mNameError\u001b[0m: name 'read_cube' is not defined"
     ]
    }
   ],
   "source": [
    "simu00012[0,:,:,:] = np.array(read_cube(ddir+'simu00012'+'/'+'dtb_tp_hi_256_nocorrection_out010.dat'))\n",
    "simu00012[1,:,:,:] = np.array(read_cube(ddir+'simu00012'+'/'+'dtb_tp_hi_256_nocorrection_out020.dat'))\n",
    "simu00012[2,:,:,:] = np.array(read_cube(ddir+'simu00012'+'/'+'dtb_tp_hi_256_nocorrection_out030.dat'))\n",
    "simu00012[3,:,:,:] = np.array(read_cube(ddir+'simu00012'+'/'+'dtb_tp_hi_256_nocorrection_out040.dat'))"
   ]
  },
  {
   "cell_type": "code",
   "execution_count": 10,
   "metadata": {},
   "outputs": [
    {
     "ename": "NameError",
     "evalue": "name 'read_cube' is not defined",
     "output_type": "error",
     "traceback": [
      "\u001b[0;31m---------------------------------------------------------------------------\u001b[0m",
      "\u001b[0;31mNameError\u001b[0m                                 Traceback (most recent call last)",
      "\u001b[0;32m/var/folders/h3/6k136qw97hjf1w5_0q84nnl80000gq/T/ipykernel_90492/2430921785.py\u001b[0m in \u001b[0;36m<module>\u001b[0;34m\u001b[0m\n\u001b[0;32m----> 1\u001b[0;31m \u001b[0msimu00013\u001b[0m\u001b[0;34m[\u001b[0m\u001b[0;36m0\u001b[0m\u001b[0;34m,\u001b[0m\u001b[0;34m:\u001b[0m\u001b[0;34m,\u001b[0m\u001b[0;34m:\u001b[0m\u001b[0;34m,\u001b[0m\u001b[0;34m:\u001b[0m\u001b[0;34m]\u001b[0m \u001b[0;34m=\u001b[0m \u001b[0mnp\u001b[0m\u001b[0;34m.\u001b[0m\u001b[0marray\u001b[0m\u001b[0;34m(\u001b[0m\u001b[0mread_cube\u001b[0m\u001b[0;34m(\u001b[0m\u001b[0mddir\u001b[0m\u001b[0;34m+\u001b[0m\u001b[0;34m'simu00013'\u001b[0m\u001b[0;34m+\u001b[0m\u001b[0;34m'/'\u001b[0m\u001b[0;34m+\u001b[0m\u001b[0;34m'dtb_tp_hi_256_nocorrection_out010.dat'\u001b[0m\u001b[0;34m)\u001b[0m\u001b[0;34m)\u001b[0m\u001b[0;34m\u001b[0m\u001b[0m\n\u001b[0m\u001b[1;32m      2\u001b[0m \u001b[0msimu00013\u001b[0m\u001b[0;34m[\u001b[0m\u001b[0;36m1\u001b[0m\u001b[0;34m,\u001b[0m\u001b[0;34m:\u001b[0m\u001b[0;34m,\u001b[0m\u001b[0;34m:\u001b[0m\u001b[0;34m,\u001b[0m\u001b[0;34m:\u001b[0m\u001b[0;34m]\u001b[0m \u001b[0;34m=\u001b[0m \u001b[0mnp\u001b[0m\u001b[0;34m.\u001b[0m\u001b[0marray\u001b[0m\u001b[0;34m(\u001b[0m\u001b[0mread_cube\u001b[0m\u001b[0;34m(\u001b[0m\u001b[0mddir\u001b[0m\u001b[0;34m+\u001b[0m\u001b[0;34m'simu00013'\u001b[0m\u001b[0;34m+\u001b[0m\u001b[0;34m'/'\u001b[0m\u001b[0;34m+\u001b[0m\u001b[0;34m'dtb_tp_hi_256_nocorrection_out020.dat'\u001b[0m\u001b[0;34m)\u001b[0m\u001b[0;34m)\u001b[0m\u001b[0;34m\u001b[0m\u001b[0m\n\u001b[1;32m      3\u001b[0m \u001b[0msimu00013\u001b[0m\u001b[0;34m[\u001b[0m\u001b[0;36m2\u001b[0m\u001b[0;34m,\u001b[0m\u001b[0;34m:\u001b[0m\u001b[0;34m,\u001b[0m\u001b[0;34m:\u001b[0m\u001b[0;34m,\u001b[0m\u001b[0;34m:\u001b[0m\u001b[0;34m]\u001b[0m \u001b[0;34m=\u001b[0m \u001b[0mnp\u001b[0m\u001b[0;34m.\u001b[0m\u001b[0marray\u001b[0m\u001b[0;34m(\u001b[0m\u001b[0mread_cube\u001b[0m\u001b[0;34m(\u001b[0m\u001b[0mddir\u001b[0m\u001b[0;34m+\u001b[0m\u001b[0;34m'simu00013'\u001b[0m\u001b[0;34m+\u001b[0m\u001b[0;34m'/'\u001b[0m\u001b[0;34m+\u001b[0m\u001b[0;34m'dtb_tp_hi_256_nocorrection_out030.dat'\u001b[0m\u001b[0;34m)\u001b[0m\u001b[0;34m)\u001b[0m\u001b[0;34m\u001b[0m\u001b[0m\n\u001b[1;32m      4\u001b[0m \u001b[0msimu00013\u001b[0m\u001b[0;34m[\u001b[0m\u001b[0;36m3\u001b[0m\u001b[0;34m,\u001b[0m\u001b[0;34m:\u001b[0m\u001b[0;34m,\u001b[0m\u001b[0;34m:\u001b[0m\u001b[0;34m,\u001b[0m\u001b[0;34m:\u001b[0m\u001b[0;34m]\u001b[0m \u001b[0;34m=\u001b[0m \u001b[0mnp\u001b[0m\u001b[0;34m.\u001b[0m\u001b[0marray\u001b[0m\u001b[0;34m(\u001b[0m\u001b[0mread_cube\u001b[0m\u001b[0;34m(\u001b[0m\u001b[0mddir\u001b[0m\u001b[0;34m+\u001b[0m\u001b[0;34m'simu00013'\u001b[0m\u001b[0;34m+\u001b[0m\u001b[0;34m'/'\u001b[0m\u001b[0;34m+\u001b[0m\u001b[0;34m'dtb_tp_hi_256_nocorrection_out040.dat'\u001b[0m\u001b[0;34m)\u001b[0m\u001b[0;34m)\u001b[0m\u001b[0;34m\u001b[0m\u001b[0m\n",
      "\u001b[0;31mNameError\u001b[0m: name 'read_cube' is not defined"
     ]
    }
   ],
   "source": [
    "simu00013[0,:,:,:] = np.array(read_cube(ddir+'simu00013'+'/'+'dtb_tp_hi_256_nocorrection_out010.dat'))\n",
    "simu00013[1,:,:,:] = np.array(read_cube(ddir+'simu00013'+'/'+'dtb_tp_hi_256_nocorrection_out020.dat'))\n",
    "simu00013[2,:,:,:] = np.array(read_cube(ddir+'simu00013'+'/'+'dtb_tp_hi_256_nocorrection_out030.dat'))\n",
    "simu00013[3,:,:,:] = np.array(read_cube(ddir+'simu00013'+'/'+'dtb_tp_hi_256_nocorrection_out040.dat'))"
   ]
  },
  {
   "cell_type": "code",
   "execution_count": null,
   "metadata": {},
   "outputs": [],
   "source": [
    "simu00014[0,:,:,:] = np.array(read_cube(ddir+'simu00014'+'/'+'dtb_tp_hi_256_nocorrection_out010.dat'))\n",
    "simu00014[1,:,:,:] = np.array(read_cube(ddir+'simu00014'+'/'+'dtb_tp_hi_256_nocorrection_out020.dat'))\n",
    "simu00014[2,:,:,:] = np.array(read_cube(ddir+'simu00014'+'/'+'dtb_tp_hi_256_nocorrection_out030.dat'))\n",
    "simu00014[3,:,:,:] = np.array(read_cube(ddir+'simu00014'+'/'+'dtb_tp_hi_256_nocorrection_out040.dat'))"
   ]
  },
  {
   "cell_type": "code",
   "execution_count": null,
   "metadata": {},
   "outputs": [],
   "source": [
    "simu00016[0,:,:,:] = np.array(read_cube(ddir+'simu00016'+'/'+'dtb_tp_hi_256_nocorrection_out010.dat'))\n",
    "simu00016[1,:,:,:] = np.array(read_cube(ddir+'simu00016'+'/'+'dtb_tp_hi_256_nocorrection_out020.dat'))\n",
    "simu00016[2,:,:,:] = np.array(read_cube(ddir+'simu00016'+'/'+'dtb_tp_hi_256_nocorrection_out030.dat'))\n",
    "simu00016[3,:,:,:] = np.array(read_cube(ddir+'simu00016'+'/'+'dtb_tp_hi_256_nocorrection_out040.dat'))"
   ]
  },
  {
   "cell_type": "code",
   "execution_count": null,
   "metadata": {},
   "outputs": [],
   "source": [
    "simu00022[0,:,:,:] = read_cube(ddir+'simu00022'+'/'+'dtb_tp_hi_256_nocorrection_out010.dat')\n",
    "simu00022[1,:,:,:] = read_cube(ddir+'simu00022'+'/'+'dtb_tp_hi_256_nocorrection_out020.dat')\n",
    "simu00022[2,:,:,:] = read_cube(ddir+'simu00022'+'/'+'dtb_tp_hi_256_nocorrection_out030.dat')\n",
    "simu00022[3,:,:,:] = read_cube(ddir+'simu00022'+'/'+'dtb_tp_hi_256_nocorrection_out040.dat')"
   ]
  },
  {
   "cell_type": "code",
   "execution_count": null,
   "metadata": {},
   "outputs": [],
   "source": []
  }
 ],
 "metadata": {
  "kernelspec": {
   "display_name": "Python 3 (ipykernel)",
   "language": "python",
   "name": "python3"
  },
  "language_info": {
   "codemirror_mode": {
    "name": "ipython",
    "version": 3
   },
   "file_extension": ".py",
   "mimetype": "text/x-python",
   "name": "python",
   "nbconvert_exporter": "python",
   "pygments_lexer": "ipython3",
   "version": "3.7.0"
  }
 },
 "nbformat": 4,
 "nbformat_minor": 5
}
